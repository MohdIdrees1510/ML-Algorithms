{
 "cells": [
  {
   "cell_type": "markdown",
   "id": "fedf124e-6e57-4252-abd4-b7ce5c63e8e4",
   "metadata": {},
   "source": [
    "# Import the required libraries"
   ]
  },
  {
   "cell_type": "code",
   "execution_count": 1,
   "id": "845822bb-0842-487e-86b8-c00fc40c6b45",
   "metadata": {
    "tags": []
   },
   "outputs": [],
   "source": [
    "import pandas as pd\n",
    "import numpy as np\n",
    "from sklearn import preprocessing\n",
    "from sklearn.model_selection import train_test_split\n",
    "from sklearn.tree import DecisionTreeClassifier\n",
    "from sklearn.metrics import confusion_matrix\n",
    "from sklearn.metrics import accuracy_score\n",
    "from sklearn.metrics import roc_curve, auc\n",
    "import matplotlib.pyplot as plt\n",
    "from six import StringIO # \"from sklearn.internals.six import StrinIO\" instead of this command the other command got executed. \n",
    "from IPython.display import Image # In Ipython, I and P both are in capital which was not the case previously as p of python was small.. \n",
    "from sklearn.tree import export_graphviz\n",
    "import pydotplus # Before running this command, we ran the command \"%pip install pydotplus\", restarted the kernel as the output said and then ran the coommand."
   ]
  },
  {
   "cell_type": "markdown",
   "id": "ef19331c-c4c6-44b6-b246-7ab1b14dde55",
   "metadata": {},
   "source": [
    "# Read the Data from the CSV"
   ]
  },
  {
   "cell_type": "code",
   "execution_count": 12,
   "id": "858b20eb-5a80-4b9b-99d8-e30712424db9",
   "metadata": {
    "tags": []
   },
   "outputs": [
    {
     "data": {
      "text/plain": [
       "array(['age', 'job', 'marital', 'education', 'default', 'balance',\n",
       "       'housing', 'loan', 'contact', 'day', 'month', 'duration',\n",
       "       'campaign', 'pdays', 'previous', 'poutcome', 'deposit'],\n",
       "      dtype=object)"
      ]
     },
     "execution_count": 12,
     "metadata": {},
     "output_type": "execute_result"
    }
   ],
   "source": [
    "dummy_df = pd.read_csv(\"C:/Users/Mohd idrees/bank.csv\")\n",
    "\n",
    "temp = dummy_df.columns.values\n",
    "temp"
   ]
  },
  {
   "cell_type": "code",
   "execution_count": 13,
   "id": "ad24a5f3-401e-4845-a67d-6c043ddf6ac9",
   "metadata": {
    "tags": []
   },
   "outputs": [
    {
     "data": {
      "text/html": [
       "<div>\n",
       "<style scoped>\n",
       "    .dataframe tbody tr th:only-of-type {\n",
       "        vertical-align: middle;\n",
       "    }\n",
       "\n",
       "    .dataframe tbody tr th {\n",
       "        vertical-align: top;\n",
       "    }\n",
       "\n",
       "    .dataframe thead th {\n",
       "        text-align: right;\n",
       "    }\n",
       "</style>\n",
       "<table border=\"1\" class=\"dataframe\">\n",
       "  <thead>\n",
       "    <tr style=\"text-align: right;\">\n",
       "      <th></th>\n",
       "      <th>age</th>\n",
       "      <th>job</th>\n",
       "      <th>marital</th>\n",
       "      <th>education</th>\n",
       "      <th>default</th>\n",
       "      <th>balance</th>\n",
       "      <th>housing</th>\n",
       "      <th>loan</th>\n",
       "      <th>contact</th>\n",
       "      <th>day</th>\n",
       "      <th>month</th>\n",
       "      <th>duration</th>\n",
       "      <th>campaign</th>\n",
       "      <th>pdays</th>\n",
       "      <th>previous</th>\n",
       "      <th>poutcome</th>\n",
       "      <th>deposit</th>\n",
       "    </tr>\n",
       "  </thead>\n",
       "  <tbody>\n",
       "    <tr>\n",
       "      <th>0</th>\n",
       "      <td>59</td>\n",
       "      <td>admin.</td>\n",
       "      <td>married</td>\n",
       "      <td>secondary</td>\n",
       "      <td>no</td>\n",
       "      <td>2343</td>\n",
       "      <td>yes</td>\n",
       "      <td>no</td>\n",
       "      <td>unknown</td>\n",
       "      <td>5</td>\n",
       "      <td>may</td>\n",
       "      <td>1042</td>\n",
       "      <td>1</td>\n",
       "      <td>-1</td>\n",
       "      <td>0</td>\n",
       "      <td>unknown</td>\n",
       "      <td>yes</td>\n",
       "    </tr>\n",
       "    <tr>\n",
       "      <th>1</th>\n",
       "      <td>56</td>\n",
       "      <td>admin.</td>\n",
       "      <td>married</td>\n",
       "      <td>secondary</td>\n",
       "      <td>no</td>\n",
       "      <td>45</td>\n",
       "      <td>no</td>\n",
       "      <td>no</td>\n",
       "      <td>unknown</td>\n",
       "      <td>5</td>\n",
       "      <td>may</td>\n",
       "      <td>1467</td>\n",
       "      <td>1</td>\n",
       "      <td>-1</td>\n",
       "      <td>0</td>\n",
       "      <td>unknown</td>\n",
       "      <td>yes</td>\n",
       "    </tr>\n",
       "    <tr>\n",
       "      <th>2</th>\n",
       "      <td>41</td>\n",
       "      <td>technician</td>\n",
       "      <td>married</td>\n",
       "      <td>secondary</td>\n",
       "      <td>no</td>\n",
       "      <td>1270</td>\n",
       "      <td>yes</td>\n",
       "      <td>no</td>\n",
       "      <td>unknown</td>\n",
       "      <td>5</td>\n",
       "      <td>may</td>\n",
       "      <td>1389</td>\n",
       "      <td>1</td>\n",
       "      <td>-1</td>\n",
       "      <td>0</td>\n",
       "      <td>unknown</td>\n",
       "      <td>yes</td>\n",
       "    </tr>\n",
       "    <tr>\n",
       "      <th>3</th>\n",
       "      <td>55</td>\n",
       "      <td>services</td>\n",
       "      <td>married</td>\n",
       "      <td>secondary</td>\n",
       "      <td>no</td>\n",
       "      <td>2476</td>\n",
       "      <td>yes</td>\n",
       "      <td>no</td>\n",
       "      <td>unknown</td>\n",
       "      <td>5</td>\n",
       "      <td>may</td>\n",
       "      <td>579</td>\n",
       "      <td>1</td>\n",
       "      <td>-1</td>\n",
       "      <td>0</td>\n",
       "      <td>unknown</td>\n",
       "      <td>yes</td>\n",
       "    </tr>\n",
       "    <tr>\n",
       "      <th>4</th>\n",
       "      <td>54</td>\n",
       "      <td>admin.</td>\n",
       "      <td>married</td>\n",
       "      <td>tertiary</td>\n",
       "      <td>no</td>\n",
       "      <td>184</td>\n",
       "      <td>no</td>\n",
       "      <td>no</td>\n",
       "      <td>unknown</td>\n",
       "      <td>5</td>\n",
       "      <td>may</td>\n",
       "      <td>673</td>\n",
       "      <td>2</td>\n",
       "      <td>-1</td>\n",
       "      <td>0</td>\n",
       "      <td>unknown</td>\n",
       "      <td>yes</td>\n",
       "    </tr>\n",
       "  </tbody>\n",
       "</table>\n",
       "</div>"
      ],
      "text/plain": [
       "   age         job  marital  education default  balance housing loan  contact  \\\n",
       "0   59      admin.  married  secondary      no     2343     yes   no  unknown   \n",
       "1   56      admin.  married  secondary      no       45      no   no  unknown   \n",
       "2   41  technician  married  secondary      no     1270     yes   no  unknown   \n",
       "3   55    services  married  secondary      no     2476     yes   no  unknown   \n",
       "4   54      admin.  married   tertiary      no      184      no   no  unknown   \n",
       "\n",
       "   day month  duration  campaign  pdays  previous poutcome deposit  \n",
       "0    5   may      1042         1     -1         0  unknown     yes  \n",
       "1    5   may      1467         1     -1         0  unknown     yes  \n",
       "2    5   may      1389         1     -1         0  unknown     yes  \n",
       "3    5   may       579         1     -1         0  unknown     yes  \n",
       "4    5   may       673         2     -1         0  unknown     yes  "
      ]
     },
     "execution_count": 13,
     "metadata": {},
     "output_type": "execute_result"
    }
   ],
   "source": [
    "dummy_df.head()"
   ]
  },
  {
   "cell_type": "markdown",
   "id": "1efc113a-5b9c-4b9c-a738-7a43ad07a831",
   "metadata": {
    "tags": []
   },
   "source": [
    "# Data Processing"
   ]
  },
  {
   "cell_type": "code",
   "execution_count": 14,
   "id": "d8a67239-0cf0-4b17-805e-f1c6aaac55bf",
   "metadata": {},
   "outputs": [],
   "source": [
    "contact_df = dummy_df"
   ]
  },
  {
   "cell_type": "code",
   "execution_count": 18,
   "id": "556a0cfb-eb89-434a-a1ce-9562cbdd0c29",
   "metadata": {
    "tags": []
   },
   "outputs": [],
   "source": [
    "def preprocessor (df):\n",
    "    res_df = df.copy()\n",
    "    le = preprocessing.LabelEncoder()\n",
    "    \n",
    "    res_df['job'] = le.fit_transform(res_df['job'])\n",
    "    res_df['marital'] = le.fit_transform(res_df['marital'])\n",
    "    res_df['education'] = le.fit_transform(res_df['education'])\n",
    "    res_df['default'] = le.fit_transform(res_df['default'])\n",
    "    res_df['housing'] = le.fit_transform(res_df['housing'])\n",
    "    res_df['loan'] = le.fit_transform(res_df['loan'])\n",
    "    res_df['contact'] = le.fit_transform(res_df['contact'])\n",
    "    res_df['day'] = le.fit_transform(res_df['day'])\n",
    "    res_df['month'] = le.fit_transform(res_df['month'])\n",
    "    res_df['poutcome'] = le.fit_transform(res_df['poutcome'])\n",
    "    res_df['deposit'] = le.fit_transform(res_df['deposit'])\n",
    "                                        \n",
    "    return res_df"
   ]
  },
  {
   "cell_type": "code",
   "execution_count": 19,
   "id": "a85212fd-174c-4a1e-ae9c-3b6a8490673b",
   "metadata": {
    "tags": []
   },
   "outputs": [],
   "source": [
    "encoded_df = preprocessor(contact_df)\n",
    "\n",
    "x = encoded_df.drop(['deposit'], axis = 1).values\n",
    "y = encoded_df['deposit'].values"
   ]
  },
  {
   "cell_type": "markdown",
   "id": "b73883c8-fcd3-4fb5-a894-440952f45408",
   "metadata": {},
   "source": [
    "# Split the Data into Train-Test"
   ]
  },
  {
   "cell_type": "code",
   "execution_count": 20,
   "id": "831c11ad-4160-4d96-9a5d-c1830845210e",
   "metadata": {
    "tags": []
   },
   "outputs": [],
   "source": [
    "x_train, x_test, y_train, y_test =  train_test_split(x,y,test_size=0.2)"
   ]
  },
  {
   "cell_type": "markdown",
   "id": "f06bb3c5-993c-4cac-bc04-c47408c0d4b3",
   "metadata": {},
   "source": [
    "# Build the Decision Tree Model"
   ]
  },
  {
   "cell_type": "code",
   "execution_count": 22,
   "id": "5d21a787-e81b-49bc-9b11-80dc60b6fe9c",
   "metadata": {
    "tags": []
   },
   "outputs": [
    {
     "name": "stdout",
     "output_type": "stream",
     "text": [
      "Trainig Score:  0.7132937618994288\n",
      "Testing Score:  0.703090013434841\n"
     ]
    }
   ],
   "source": [
    "# Decision Tree with depth = 2\n",
    "model_dt_2 = DecisionTreeClassifier(random_state=1, max_depth=2)\n",
    "model_dt_2.fit(x_train,y_train)\n",
    "model_dt_2.score_train = model_dt_2.score(x_train,y_train)\n",
    "print(\"Trainig Score: \", model_dt_2.score_train)\n",
    "model_dt_2.score_test = model_dt_2.score(x_test,y_test)\n",
    "print(\"Testing Score: \", model_dt_2.score_test)\n",
    "      "
   ]
  },
  {
   "cell_type": "code",
   "execution_count": 23,
   "id": "a1fd9cfa-da81-4dd4-8722-b82d09edb385",
   "metadata": {
    "tags": []
   },
   "outputs": [
    {
     "name": "stdout",
     "output_type": "stream",
     "text": [
      "Training Score:  0.7919139881285698\n",
      "Testing Score:  0.7756381549484997\n"
     ]
    }
   ],
   "source": [
    "# Decision Tree with depth = 4\n",
    "model_dt_4 = DecisionTreeClassifier(random_state=1, max_depth=4)\n",
    "model_dt_4.fit(x_train,y_train)\n",
    "model_dt_4.score_train = model_dt_4.score(x_train,y_train)\n",
    "print(\"Training Score: \", model_dt_4.score_train)\n",
    "model_dt_4.score_test = model_dt_4.score(x_test,y_test)\n",
    "print(\"Testing Score: \", model_dt_4.score_test)\n"
   ]
  },
  {
   "cell_type": "code",
   "execution_count": 50,
   "id": "ae364e3e-7960-4bed-ab0d-8fb1eae40f1e",
   "metadata": {
    "tags": []
   },
   "outputs": [
    {
     "name": "stdout",
     "output_type": "stream",
     "text": [
      "Training Score:  0.8203606226901109\n",
      "Testing Score:  0.7989252127183162\n"
     ]
    }
   ],
   "source": [
    "# Decision Tree with depth = 6\n",
    "model_dt_8 = DecisionTreeClassifier(random_state=1, max_depth=6, criterion=\"gini\")\n",
    "model_dt_8.fit(x_train,y_train)\n",
    "model_dt_8.score_train = model_dt_8.score(x_train,y_train)\n",
    "print(\"Training Score: \", model_dt_8.score_train)\n",
    "model_dt_8.score_test = model_dt_8.score(x_test,y_test)\n",
    "print(\"Testing Score: \", model_dt_8.score_test)\n"
   ]
  },
  {
   "cell_type": "code",
   "execution_count": 51,
   "id": "ff9782d2-d671-44d1-8441-4de239342288",
   "metadata": {
    "tags": []
   },
   "outputs": [
    {
     "name": "stdout",
     "output_type": "stream",
     "text": [
      "Training Score:  0.8481352895061037\n",
      "Testing Score:  0.8025078369905956\n"
     ]
    }
   ],
   "source": [
    "# Decision Tree with depth = 8\n",
    "model_dt_8 = DecisionTreeClassifier(random_state=1, max_depth=8, criterion=\"gini\")\n",
    "model_dt_8.fit(x_train,y_train)\n",
    "model_dt_8.score_train = model_dt_8.score(x_train,y_train)\n",
    "print(\"Training Score: \", model_dt_8.score_train)\n",
    "model_dt_8.score_test = model_dt_8.score(x_test,y_test)\n",
    "print(\"Testing Score: \", model_dt_8.score_test)\n"
   ]
  },
  {
   "cell_type": "code",
   "execution_count": 53,
   "id": "6e12f4c1-9025-48ae-a566-0cd37f6d83f3",
   "metadata": {
    "tags": []
   },
   "outputs": [
    {
     "name": "stdout",
     "output_type": "stream",
     "text": [
      "Training Score:  0.8846455370142233\n",
      "Testing Score:  0.8047469771607703\n"
     ]
    }
   ],
   "source": [
    "# Decision Tree with depth = 10\n",
    "model_dt_8 = DecisionTreeClassifier(random_state=1, max_depth=10, criterion=\"gini\")\n",
    "model_dt_8.fit(x_train,y_train)\n",
    "model_dt_8.score_train = model_dt_8.score(x_train,y_train)\n",
    "print(\"Training Score: \", model_dt_8.score_train)\n",
    "model_dt_8.score_test = model_dt_8.score(x_test,y_test)\n",
    "print(\"Testing Score: \", model_dt_8.score_test)\n"
   ]
  },
  {
   "cell_type": "code",
   "execution_count": 26,
   "id": "f719fc18-9c9e-414b-afd6-41f5a0946aca",
   "metadata": {
    "tags": []
   },
   "outputs": [],
   "source": [
    "# Decision Tree\n",
    "\n",
    "model_dt = DecisionTreeClassifier(max_depth=8, criterion='entropy')\n",
    "model_dt.fit(x_train,y_train)\n",
    "y_pred_dt = model_dt.predict_proba(x_test)[:,1]"
   ]
  },
  {
   "cell_type": "markdown",
   "id": "072fa3dd-9677-4f62-8cb4-de0ba9bfbf50",
   "metadata": {},
   "source": [
    "# Performance Metrics"
   ]
  },
  {
   "cell_type": "code",
   "execution_count": 27,
   "id": "f3c187b5-10fe-4f79-a8b5-2ffe6e63dbc0",
   "metadata": {
    "tags": []
   },
   "outputs": [],
   "source": [
    "fpr_dt, tpr_dt, _ = roc_curve(y_test, y_pred_dt)\n",
    "roc_auc_dt = auc(fpr_dt, tpr_dt)"
   ]
  },
  {
   "cell_type": "code",
   "execution_count": 28,
   "id": "9cb17811-be45-4e3b-8830-3ce1c21a085b",
   "metadata": {
    "tags": []
   },
   "outputs": [
    {
     "data": {
      "text/plain": [
       "array([1, 0, 0, ..., 0, 1, 0])"
      ]
     },
     "execution_count": 28,
     "metadata": {},
     "output_type": "execute_result"
    }
   ],
   "source": [
    "predictions = model_dt.predict(x_test)\n",
    "predictions"
   ]
  },
  {
   "cell_type": "code",
   "execution_count": 39,
   "id": "a9be9d7a-4fa5-4c78-ae28-3b74b6fff8a9",
   "metadata": {
    "tags": []
   },
   "outputs": [],
   "source": [
    "y_actual_result = 0\n",
    "\n",
    "for i in range(len(predictions)):\n",
    "    if (predictions[i] == 1):\n",
    "        y_actual_result = np.vstack((y_actual_result, y_test[i]))"
   ]
  },
  {
   "cell_type": "markdown",
   "id": "795378d9-67f7-4653-b1be-f49899fd30e2",
   "metadata": {},
   "source": [
    "# Recall"
   ]
  },
  {
   "cell_type": "code",
   "execution_count": 40,
   "id": "07440518-428f-4183-af3f-be15405da623",
   "metadata": {
    "tags": []
   },
   "outputs": [
    {
     "name": "stdout",
     "output_type": "stream",
     "text": [
      "true yes | predicted yes:\n",
      "0.8041749502982107\n"
     ]
    }
   ],
   "source": [
    "# Recall\n",
    "\n",
    "y_actual_result = y_actual_result.flatten()\n",
    "count = 0 \n",
    "\n",
    "for result in y_actual_result:\n",
    "    if (result == 1):\n",
    "        count+=1\n",
    "        \n",
    "print(\"true yes | predicted yes:\")\n",
    "print(count/float(len(y_actual_result)))\n",
    "    \n",
    "    "
   ]
  },
  {
   "cell_type": "markdown",
   "id": "c381a3b0-b929-41e3-b1f9-47cab2f50e50",
   "metadata": {},
   "source": [
    "# Area under the curve"
   ]
  },
  {
   "cell_type": "code",
   "execution_count": 41,
   "id": "2b0abc0b-2547-4802-80ff-f00474674ed9",
   "metadata": {
    "tags": []
   },
   "outputs": [
    {
     "data": {
      "image/png": "[encoded data removed]",
      "text/plain": [
       "<Figure size 640x480 with 1 Axes>"
      ]
     },
     "metadata": {},
     "output_type": "display_data"
    }
   ],
   "source": [
    "plt.figure(1)\n",
    "lw = 2\n",
    "plt.plot(fpr_dt, tpr_dt, color = 'green',\n",
    "         lw = lw, label = 'Decision Tree(AUC = %0.2f)' % roc_auc_dt)\n",
    "\n",
    "plt.plot([0,1], [0,1], color = 'navy', lw = lw, linestyle = '--')\n",
    "\n",
    "plt.xlim([0.0, 1.0])\n",
    "plt.ylim([0.0, 1.05])\n",
    "plt.xlabel('False Positive Rate')\n",
    "plt.ylabel('True Positive Rate')\n",
    "plt.title('Area Under Curve')\n",
    "plt.legend(loc = 'lower right')\n",
    "plt.show()"
   ]
  },
  {
   "cell_type": "markdown",
   "id": "a154145f-1e5a-4230-9b30-3b2b13d5b0c9",
   "metadata": {},
   "source": [
    "# Confusion Matrix"
   ]
  },
  {
   "cell_type": "code",
   "execution_count": 42,
   "id": "74ce21df-8497-42c2-ae69-f1206c0c2bcf",
   "metadata": {
    "tags": []
   },
   "outputs": [
    {
     "name": "stdout",
     "output_type": "stream",
     "text": [
      "[[992 196]\n",
      " [236 809]]\n"
     ]
    }
   ],
   "source": [
    "print(confusion_matrix(y_test, predictions))"
   ]
  },
  {
   "cell_type": "code",
   "execution_count": 43,
   "id": "787d91d4-8e18-4784-91ed-3331e453aefb",
   "metadata": {
    "tags": []
   },
   "outputs": [
    {
     "data": {
      "text/plain": [
       "0.80653828929691"
      ]
     },
     "execution_count": 43,
     "metadata": {},
     "output_type": "execute_result"
    }
   ],
   "source": [
    "accuracy_score(y_test,predictions)"
   ]
  },
  {
   "cell_type": "code",
   "execution_count": 44,
   "id": "f3da36ba-b65a-42e0-9ded-06c59cdb34bf",
   "metadata": {
    "tags": []
   },
   "outputs": [],
   "source": [
    "import itertools\n",
    "from sklearn.metrics import confusion_matrix\n",
    "def plot_confusion_matrix(model, normalize=False): # This function prints and plots the confusion matrix.\n",
    "    cm = confusion_matrix(y_test, model, labels=[0, 1])\n",
    "    classes=[\"Success\", \"Default\"]\n",
    "    cmap = plt.cm.Blues\n",
    "    title = \"Confusion Matrix\"\n",
    "    if normalize:\n",
    "        cm = cm.astype('float') / cm.sum(axis=1)[:, np.newaxis]\n",
    "        cm = np.around(cm, decimals=3)\n",
    "    plt.imshow(cm, interpolation='nearest', cmap=cmap)\n",
    "    plt.title(title)\n",
    "    plt.colorbar()\n",
    "    tick_marks = np.arange(len(classes))\n",
    "    plt.xticks(tick_marks, classes, rotation=45)\n",
    "    plt.yticks(tick_marks, classes)\n",
    "    thresh = cm.max() / 2.\n",
    "    for i, j in itertools.product(range(cm.shape[0]), range(cm.shape[1])):\n",
    "        plt.text(j, i, cm[i, j],\n",
    "                 horizontalalignment=\"center\",\n",
    "                 color=\"white\" if cm[i, j] > thresh else \"black\")\n",
    "    plt.tight_layout()\n",
    "    plt.ylabel('True label')\n",
    "    plt.xlabel('Predicted label')"
   ]
  },
  {
   "cell_type": "code",
   "execution_count": 45,
   "id": "c02d7572-48ba-45c9-bb13-85103c5ed3b0",
   "metadata": {
    "tags": []
   },
   "outputs": [
    {
     "data": {
      "image/png": "[encoded data removed]",
      "text/plain": [
       "<Figure size 600x600 with 2 Axes>"
      ]
     },
     "metadata": {},
     "output_type": "display_data"
    }
   ],
   "source": [
    "plt.figure(figsize=(6,6))\n",
    "plot_confusion_matrix(predictions, normalize=False)\n",
    "plt.show()"
   ]
  }
 ],
 "metadata": {
  "kernelspec": {
   "display_name": "Python 3 (ipykernel)",
   "language": "python",
   "name": "python3"
  },
  "language_info": {
   "codemirror_mode": {
    "name": "ipython",
    "version": 3
   },
   "file_extension": ".py",
   "mimetype": "text/x-python",
   "name": "python",
   "nbconvert_exporter": "python",
   "pygments_lexer": "ipython3",
   "version": "3.11.5"
  }
 },
 "nbformat": 4,
 "nbformat_minor": 5
}
